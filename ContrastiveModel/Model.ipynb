{
 "cells": [
  {
   "cell_type": "markdown",
   "id": "98da24d4-4df9-4fce-a382-accd462955f7",
   "metadata": {},
   "source": [
    "# Data_Prep"
   ]
  },
  {
   "cell_type": "code",
   "execution_count": 1,
   "id": "1183ac2b-d0bb-4779-b022-934803cd9823",
   "metadata": {},
   "outputs": [],
   "source": [
    "raw_dict = { \n",
    "    # collected from https://becomeanutritionist.org/blog/types-of-diets/#elementor-toc__heading-anchor-13\n",
    "    \"Balanced Diet\": {\n",
    "        \"recommended\": [],\n",
    "        \"avoids\": []\n",
    "    },\n",
    "    \"Keto Diet\": {\n",
    "        \"recommended\": [\"Meat\", \"Fatty fish\", \"Eggs\", \"Cheese\", \"Butter\", \"Nuts\", \"Oils\", \"Low-carb vegetables\"],\n",
    "        \"avoids\": [\"Grains\", \"Sugar\", \"High-carb fruits\", \"Legumes\"]\n",
    "    },\n",
    "    \"Paleo Diet\": {\n",
    "        \"recommended\": [\"Meat\", \"Fish\", \"Fruits\", \"Vegetables\", \"Nuts\", \"Seeds\"],\n",
    "        \"avoids\": [\"Dairy\", \"Grains\", \"Legumes\", \"Processed foods\", \"Sugar\"]\n",
    "    },\n",
    "    \"Vegetarian Diet\": {\n",
    "        \"recommended\": [\"Vegetables\", \"Fruits\", \"Grains\", \"Dairy\", \"Eggs\"],\n",
    "        \"avoids\": [\"Meat\"]\n",
    "    },\n",
    "    \"Vegan Diet\": {\n",
    "        \"recommended\": [\"Fruits\", \"Vegetables\", \"Grains\", \"Legumes\", \"Nuts\", \"Seeds\"],\n",
    "        \"avoids\": [\"All animal-derived products\"]\n",
    "    },\n",
    "    \"Mediterranean Diet\": {\n",
    "        \"recommended\": [\"Olive oil\", \"Fish\", \"Fruits\", \"Vegetables\", \"Legumes\", \"Nuts\", \"Whole grains\"],\n",
    "        \"avoids\": [\"Red meat\", \"Refined grains\", \"Processed foods\"]\n",
    "    },\n",
    "    \"Intermittent Fasting Diet\": {\n",
    "        \"recommended\": [],\n",
    "        \"avoids\": []\n",
    "    },\n",
    "    \"Low-Carb Diet\": {\n",
    "        \"recommended\": [\"Meat\", \"Fish\", \"Eggs\", \"Vegetables\", \"Nuts\", \"Seeds\"],\n",
    "        \"avoids\": [\"Grains\", \"Starchy vegetables\", \"Sugars\"]\n",
    "    },\n",
    "    \"DASH Diet\": {\n",
    "        \"recommended\": [\"Fruits\", \"Vegetables\", \"Whole grains\", \"Lean protein\", \"Low-fat dairy\"],\n",
    "        \"avoids\": [\"High sodium foods\", \"Sugary drinks\", \"Red meat\"]\n",
    "    },\n",
    "    \"MIND Diet\": {\n",
    "        \"recommended\": [\"Leafy greens\", \"Berries\", \"Nuts\", \"Olive oil\", \"Whole grains\", \"Fish\"],\n",
    "        \"avoids\": [\"Red meat\", \"Butter\", \"Cheese\", \"Pastries\", \"Fried food\"]\n",
    "    },\n",
    "    \"Flexitarian Diet\": {\n",
    "        \"recommended\": [\"Vegetables\", \"Fruits\", \"Whole grains\", \"Legumes\", \"Some meat\"],\n",
    "        \"avoids\": [\"Highly processed foods\"]\n",
    "    },\n",
    "    \"Raw Food Diet\": {\n",
    "        \"recommended\": [\"Fruits\", \"Vegetables\", \"Nuts\", \"Seeds\", \"Raw grains\", \"Legumes\"],\n",
    "        \"avoids\": [\"Cooked or processed foods\", \"Refined sugars\", \"Oils\"]\n",
    "    },\n",
    "    \"Carnivore Diet\": {\n",
    "        \"recommended\": [\"Meat\", \"Fish\", \"Eggs\", \"Animal fats\"],\n",
    "        \"avoids\": [\"Fruits\", \"Vegetables\", \"Grains\", \"Legumes\"]\n",
    "    },\n",
    "    \"Whole30 Diet\": {\n",
    "        \"recommended\": [\"Meat\", \"Seafood\", \"Vegetables\", \"Fruits\", \"Some fats\"],\n",
    "        \"avoids\": [\"Sugar\", \"Grains\", \"Dairy\", \"Alcohol\", \"Legumes\", \"Processed foods\"]\n",
    "    },\n",
    "    \"Zone Diet\": {\n",
    "        \"recommended\": [\"Lean proteins\", \"Healthy fats\", \"Low-glycemic carbs\"],\n",
    "        \"avoids\": [\"Refined carbs\", \"Sugary snacks\", \"Processed foods\"]\n",
    "    }\n",
    "}\n"
   ]
  },
  {
   "cell_type": "code",
   "execution_count": 2,
   "id": "b1ce9410-9b83-4d4c-ad5d-98e18b8084c5",
   "metadata": {},
   "outputs": [],
   "source": [
    "triples = []\n",
    "\n",
    "for diet, food_dict in raw_dict.items():\n",
    "    for food in food_dict.get(\"recommended\", []):\n",
    "        triples.append((diet.lower(), food.lower(), 1))\n",
    "    for food in food_dict.get(\"avoids\", []):\n",
    "        triples.append((diet.lower(), food.lower(), -1))"
   ]
  },
  {
   "cell_type": "code",
   "execution_count": 3,
   "id": "1069ad13-aadb-4c83-b729-7bc6209d8734",
   "metadata": {},
   "outputs": [],
   "source": [
    "# handling speacial cases\n",
    "foods = [\"Meat\", \"Fatty fish\", \"fish\", \"Eggs\", \"Cheese\", \"Butter\", \"Nuts\", \"Oils\", \"Low-carb vegetables\"\n",
    "        \"Grains\", \"whole grains\", \"Sugar\", \"High-carb fruits\", \"Legumes\", \"Lean proteins\", \"Healthy fats\", \"Low-glycemic carbs\"]\n",
    "for food in foods:\n",
    "    triples.append((\"Balanced Diet\".lower(), food.lower(), 1))\n",
    "    triples.append((\"Intermittent Fasting Diet\".lower(), food.lower(), 1))\n"
   ]
  },
  {
   "cell_type": "code",
   "execution_count": 4,
   "id": "5f877fda-af00-4908-a155-4b459607b1f0",
   "metadata": {},
   "outputs": [
    {
     "name": "stderr",
     "output_type": "stream",
     "text": [
      "/workspace/shukaic/miniconda3/envs/sml/lib/python3.10/site-packages/tqdm/auto.py:21: TqdmWarning: IProgress not found. Please update jupyter and ipywidgets. See https://ipywidgets.readthedocs.io/en/stable/user_install.html\n",
      "  from .autonotebook import tqdm as notebook_tqdm\n"
     ]
    }
   ],
   "source": [
    "\n",
    "from transformers import AutoTokenizer, AutoModel\n",
    "import torch\n",
    "import torch.nn as nn\n",
    "import torch.nn.functional as F\n"
   ]
  },
  {
   "cell_type": "code",
   "execution_count": 5,
   "id": "90923ea2-39f1-49ed-bd7b-4652c5c8a665",
   "metadata": {},
   "outputs": [
    {
     "name": "stderr",
     "output_type": "stream",
     "text": [
      "2025-03-31 00:04:28.962905: I tensorflow/core/platform/cpu_feature_guard.cc:182] This TensorFlow binary is optimized to use available CPU instructions in performance-critical operations.\n",
      "To enable the following instructions: SSE4.1 SSE4.2 AVX AVX2 AVX512F AVX512_VNNI AVX512_BF16 AVX_VNNI AMX_TILE AMX_INT8 AMX_BF16 FMA, in other operations, rebuild TensorFlow with the appropriate compiler flags.\n"
     ]
    }
   ],
   "source": [
    "# Load pre-trained BERT\n",
    "tokenizer = AutoTokenizer.from_pretrained(\"bert-base-uncased\")\n",
    "model = AutoModel.from_pretrained(\"bert-base-uncased\")"
   ]
  },
  {
   "cell_type": "code",
   "execution_count": 6,
   "id": "80113c8f-b54a-408a-83fe-b9faad9f54ae",
   "metadata": {},
   "outputs": [
    {
     "name": "stdout",
     "output_type": "stream",
     "text": [
      "146\n"
     ]
    }
   ],
   "source": [
    "print(len(triples))"
   ]
  },
  {
   "cell_type": "code",
   "execution_count": 92,
   "id": "2dd10d53-49af-420d-9d6b-a4c78dcdaa08",
   "metadata": {},
   "outputs": [
    {
     "name": "stdout",
     "output_type": "stream",
     "text": [
      "[('keto diet', 'meat', 1), ('keto diet', 'fatty fish', 1), ('keto diet', 'eggs', 1), ('keto diet', 'cheese', 1), ('keto diet', 'butter', 1), ('keto diet', 'nuts', 1), ('keto diet', 'oils', 1), ('keto diet', 'low-carb vegetables', 1), ('keto diet', 'grains', -1), ('keto diet', 'sugar', -1), ('keto diet', 'high-carb fruits', -1), ('keto diet', 'legumes', -1), ('paleo diet', 'meat', 1), ('paleo diet', 'fish', 1), ('paleo diet', 'fruits', 1), ('paleo diet', 'vegetables', 1), ('paleo diet', 'nuts', 1), ('paleo diet', 'seeds', 1), ('paleo diet', 'dairy', -1), ('paleo diet', 'grains', -1), ('paleo diet', 'legumes', -1), ('paleo diet', 'processed foods', -1), ('paleo diet', 'sugar', -1), ('vegetarian diet', 'vegetables', 1), ('vegetarian diet', 'fruits', 1), ('vegetarian diet', 'grains', 1), ('vegetarian diet', 'dairy', 1), ('vegetarian diet', 'eggs', 1), ('vegetarian diet', 'meat', -1), ('vegan diet', 'fruits', 1), ('vegan diet', 'vegetables', 1), ('vegan diet', 'grains', 1), ('vegan diet', 'legumes', 1), ('vegan diet', 'nuts', 1), ('vegan diet', 'seeds', 1), ('vegan diet', 'all animal-derived products', -1), ('mediterranean diet', 'olive oil', 1), ('mediterranean diet', 'fish', 1), ('mediterranean diet', 'fruits', 1), ('mediterranean diet', 'vegetables', 1), ('mediterranean diet', 'legumes', 1), ('mediterranean diet', 'nuts', 1), ('mediterranean diet', 'whole grains', 1), ('mediterranean diet', 'red meat', -1), ('mediterranean diet', 'refined grains', -1), ('mediterranean diet', 'processed foods', -1), ('low-carb diet', 'meat', 1), ('low-carb diet', 'fish', 1), ('low-carb diet', 'eggs', 1), ('low-carb diet', 'vegetables', 1), ('low-carb diet', 'nuts', 1), ('low-carb diet', 'seeds', 1), ('low-carb diet', 'grains', -1), ('low-carb diet', 'starchy vegetables', -1), ('low-carb diet', 'sugars', -1), ('dash diet', 'fruits', 1), ('dash diet', 'vegetables', 1), ('dash diet', 'whole grains', 1), ('dash diet', 'lean protein', 1), ('dash diet', 'low-fat dairy', 1), ('dash diet', 'high sodium foods', -1), ('dash diet', 'sugary drinks', -1), ('dash diet', 'red meat', -1), ('mind diet', 'leafy greens', 1), ('mind diet', 'berries', 1), ('mind diet', 'nuts', 1), ('mind diet', 'olive oil', 1), ('mind diet', 'whole grains', 1), ('mind diet', 'fish', 1), ('mind diet', 'red meat', -1), ('mind diet', 'butter', -1), ('mind diet', 'cheese', -1), ('mind diet', 'pastries', -1), ('mind diet', 'fried food', -1), ('flexitarian diet', 'vegetables', 1), ('flexitarian diet', 'fruits', 1), ('flexitarian diet', 'whole grains', 1), ('flexitarian diet', 'legumes', 1), ('flexitarian diet', 'some meat', 1), ('flexitarian diet', 'highly processed foods', -1), ('raw food diet', 'fruits', 1), ('raw food diet', 'vegetables', 1), ('raw food diet', 'nuts', 1), ('raw food diet', 'seeds', 1), ('raw food diet', 'raw grains', 1), ('raw food diet', 'legumes', 1), ('raw food diet', 'cooked or processed foods', -1), ('raw food diet', 'refined sugars', -1), ('raw food diet', 'oils', -1), ('carnivore diet', 'meat', 1), ('carnivore diet', 'fish', 1), ('carnivore diet', 'eggs', 1), ('carnivore diet', 'animal fats', 1), ('carnivore diet', 'fruits', -1), ('carnivore diet', 'vegetables', -1), ('carnivore diet', 'grains', -1), ('carnivore diet', 'legumes', -1), ('whole30 diet', 'meat', 1), ('whole30 diet', 'seafood', 1), ('whole30 diet', 'vegetables', 1), ('whole30 diet', 'fruits', 1), ('whole30 diet', 'some fats', 1), ('whole30 diet', 'sugar', -1), ('whole30 diet', 'grains', -1), ('whole30 diet', 'dairy', -1), ('whole30 diet', 'alcohol', -1), ('whole30 diet', 'legumes', -1), ('whole30 diet', 'processed foods', -1), ('zone diet', 'lean proteins', 1), ('zone diet', 'healthy fats', 1), ('zone diet', 'low-glycemic carbs', 1), ('zone diet', 'refined carbs', -1), ('zone diet', 'sugary snacks', -1), ('zone diet', 'processed foods', -1), ('balanced diet', 'meat', 1), ('intermittent fasting diet', 'meat', 1), ('balanced diet', 'fatty fish', 1), ('intermittent fasting diet', 'fatty fish', 1), ('balanced diet', 'fish', 1), ('intermittent fasting diet', 'fish', 1), ('balanced diet', 'eggs', 1), ('intermittent fasting diet', 'eggs', 1), ('balanced diet', 'cheese', 1), ('intermittent fasting diet', 'cheese', 1), ('balanced diet', 'butter', 1), ('intermittent fasting diet', 'butter', 1), ('balanced diet', 'nuts', 1), ('intermittent fasting diet', 'nuts', 1), ('balanced diet', 'oils', 1), ('intermittent fasting diet', 'oils', 1), ('balanced diet', 'low-carb vegetablesgrains', 1), ('intermittent fasting diet', 'low-carb vegetablesgrains', 1), ('balanced diet', 'whole grains', 1), ('intermittent fasting diet', 'whole grains', 1), ('balanced diet', 'sugar', 1), ('intermittent fasting diet', 'sugar', 1), ('balanced diet', 'high-carb fruits', 1), ('intermittent fasting diet', 'high-carb fruits', 1), ('balanced diet', 'legumes', 1), ('intermittent fasting diet', 'legumes', 1), ('balanced diet', 'lean proteins', 1), ('intermittent fasting diet', 'lean proteins', 1), ('balanced diet', 'healthy fats', 1), ('intermittent fasting diet', 'healthy fats', 1), ('balanced diet', 'low-glycemic carbs', 1), ('intermittent fasting diet', 'low-glycemic carbs', 1)]\n"
     ]
    }
   ],
   "source": [
    "print(triples)"
   ]
  },
  {
   "cell_type": "code",
   "execution_count": 32,
   "id": "3629a773-010d-4c0c-a4df-c38a480e0edf",
   "metadata": {},
   "outputs": [],
   "source": [
    "# Map: (diet, food) -> (index, label)\n",
    "triple_index_map = {(d.lower(), f.lower()): i for i, (d, f, _) in enumerate(triples)}"
   ]
  },
  {
   "cell_type": "code",
   "execution_count": 91,
   "id": "c8af3e42-cd55-4522-a3e0-24b1863c0a78",
   "metadata": {},
   "outputs": [],
   "source": [
    "# print(triple_index_map)"
   ]
  },
  {
   "cell_type": "code",
   "execution_count": 7,
   "id": "ab534f52-4eea-4365-9034-ade0f6113d86",
   "metadata": {},
   "outputs": [],
   "source": [
    "batch_size = len(triples)\n",
    "dim = 768\n",
    "phi_d = torch.empty(batch_size, dim)\n",
    "phi_n = torch.empty(batch_size, dim)\n",
    "y = torch.empty(batch_size, 1)"
   ]
  },
  {
   "cell_type": "code",
   "execution_count": 44,
   "id": "55bbd48d-993a-42c0-bc96-3d6336a2e2e1",
   "metadata": {},
   "outputs": [
    {
     "name": "stdout",
     "output_type": "stream",
     "text": [
      "torch.Size([146, 768])\n"
     ]
    }
   ],
   "source": [
    "print(phi_d.shape)"
   ]
  },
  {
   "cell_type": "code",
   "execution_count": 9,
   "id": "32b8c4a6-f4cf-4ac6-b2c6-70aafe1194c7",
   "metadata": {},
   "outputs": [],
   "source": [
    "\n",
    "for i, triple in enumerate(triples):\n",
    "    diet, food, label = triple\n",
    "    diet_embed = tokenizer(diet, return_tensors=\"pt\")\n",
    "    food_embed = tokenizer(food, return_tensors=\"pt\")\n",
    "\n",
    "    # Get model outputs (embeddings for each token)\n",
    "    with torch.no_grad():\n",
    "        outputs = model(**diet_embed)\n",
    "        embeddings = outputs.last_hidden_state # shape: [1, sequence_len, hidden_dim]\n",
    "        phi_d[i, :] = embeddings[0, 0]  # get CLS token embedding\n",
    "\n",
    "\n",
    "    with torch.no_grad():\n",
    "        outputs = model(**food_embed)\n",
    "        embeddings = outputs.last_hidden_state\n",
    "        phi_n[i, :] = embeddings[0, 0]  # get CLS token embedding\n",
    "        \n",
    "    y[i] = label\n",
    "\n",
    "# torch.save(phi_d, \"bert_phi_d.pt\")\n",
    "# torch.save(phi_n, \"bert_phi_n.pt\")\n",
    "# torch.save(y, \"y.pt\")\n",
    "\n",
    "# trainable param: W1, W2\n",
    "# constrastive loss\n"
   ]
  },
  {
   "cell_type": "markdown",
   "id": "fec589bf-cf35-4771-b899-86e284013795",
   "metadata": {},
   "source": [
    "## Build a trainable model for projection from high-dimensional to low-dimensional space"
   ]
  },
  {
   "cell_type": "code",
   "execution_count": 10,
   "id": "83af7f93-c06d-4733-92ec-42e33e207758",
   "metadata": {},
   "outputs": [],
   "source": [
    "class DietFoodContrastiveModel(nn.Module):\n",
    "    def __init__(self, in_dim=768, proj_dim=128):\n",
    "        super().__init__()\n",
    "        \n",
    "        self.proj_d = nn.Sequential(\n",
    "            # nn.Linear(in_dim, 512), ##\n",
    "            # nn.ReLU(), ## add\n",
    "            nn.Linear(in_dim, proj_dim),\n",
    "            # nn.LayerNorm(proj_dim), ## \n",
    "            nn.ReLU(),\n",
    "            nn.Linear(proj_dim, proj_dim)\n",
    "        )\n",
    "        \n",
    "        self.proj_n = nn.Sequential(\n",
    "            # nn.Linear(in_dim, 512), ##\n",
    "            # nn.ReLU(), ## add\n",
    "            nn.Linear(in_dim, proj_dim),\n",
    "            # nn.LayerNorm(proj_dim), ## \n",
    "            nn.ReLU(),\n",
    "            nn.Linear(proj_dim, proj_dim)\n",
    "        )\n",
    "\n",
    "    def forward(self, phi_d, phi_n):\n",
    "        z_d = self.proj_d(phi_d)\n",
    "        z_n = self.proj_n(phi_n)\n",
    "        return z_d, z_n"
   ]
  },
  {
   "cell_type": "code",
   "execution_count": 11,
   "id": "73cf2d89-557b-453e-be91-dfa9629f8b1b",
   "metadata": {},
   "outputs": [],
   "source": [
    "def cosine_contrastive_loss(phi_r, phi_v, y, alpha=0.5):\n",
    "    \"\"\"\n",
    "    phi_r: tensor of shape (batch_size, dim)\n",
    "    phi_v: tensor of shape (batch_size, dim)\n",
    "    y: tensor of shape (batch_size,) with values 1 or -1\n",
    "    alpha: margin value\n",
    "    \"\"\"\n",
    "    # Cosine similarity (normalized)\n",
    "    cos_sim = F.cosine_similarity(phi_r, phi_v, dim=-1)  # shape: (batch_size,)\n",
    "\n",
    "    # Positive loss: 1 - cosine similarity\n",
    "    pos_loss = 1 - cos_sim\n",
    "\n",
    "    # Negative loss: max(0, cosine similarity - alpha)\n",
    "    neg_loss = F.relu(cos_sim - alpha)\n",
    "\n",
    "    # Combine losses based on labels\n",
    "    loss = torch.where(y == 1, pos_loss, neg_loss)\n",
    "\n",
    "    return loss.mean()"
   ]
  },
  {
   "cell_type": "code",
   "execution_count": 12,
   "id": "6e6733b0-9edc-4dae-ac97-187e072b3cec",
   "metadata": {},
   "outputs": [],
   "source": [
    "# phi_d = torch.load(\"bert_phi_d.pt\")\n",
    "# phi_n = torch.load(\"bert_phi_n.pt\")\n",
    "# y = torch.load(\"y.pt\").squeeze()  # Make sure shape is (batch_size,)\n",
    "y = y.squeeze()\n",
    "\n",
    "# Just in case label isn't tensor of dtype float or long\n",
    "y = y.to(phi_d.device).long()  # ensure same device, long dtype for indexing in torch.where"
   ]
  },
  {
   "cell_type": "code",
   "execution_count": 13,
   "id": "8f03a438-2fa8-4a27-a716-30da908b2150",
   "metadata": {},
   "outputs": [],
   "source": [
    "from torch.utils.data import TensorDataset, DataLoader\n",
    "dataset = TensorDataset(phi_d, phi_n, y)\n",
    "batch_size = 64 \n",
    "dataloader = DataLoader(dataset, batch_size=batch_size, shuffle=True)"
   ]
  },
  {
   "cell_type": "code",
   "execution_count": 18,
   "id": "1bad6f23-e0eb-4e69-81aa-ec5f7faefc9f",
   "metadata": {},
   "outputs": [],
   "source": [
    "# Train model\n",
    "model_DietFoodContrastiveModel = DietFoodContrastiveModel()\n",
    "optimizer = torch.optim.Adam(model_DietFoodContrastiveModel.parameters(), lr=1e-6)\n",
    "epochs = 10000\n",
    "\n",
    "loss_list = []\n",
    "\n",
    "# for epoch in range(epochs):\n",
    "#     model.train()\n",
    "#     z_d, z_n = model(phi_d, phi_n)\n",
    "    \n",
    "#     loss = cosine_contrastive_loss(z_d, z_n, y, alpha=0.5)\n",
    "    \n",
    "#     optimizer.zero_grad()\n",
    "#     loss.backward()\n",
    "#     optimizer.step()\n",
    "#     loss_list.append(loss.item())\n",
    "#     # print(f\"Epoch {epoch+1}, Loss: {loss.item():.4f}\")\n",
    "\n",
    "for epoch in range(epochs):\n",
    "    model_DietFoodContrastiveModel .train()\n",
    "    epoch_loss = 0\n",
    "\n",
    "    for batch_phi_d, batch_phi_n, batch_y in dataloader:\n",
    "        batch_phi_d = batch_phi_d.to(phi_d.device)\n",
    "        batch_phi_n = batch_phi_n.to(phi_d.device)\n",
    "        batch_y = batch_y.to(phi_d.device)\n",
    "\n",
    "        z_d, z_n = model_DietFoodContrastiveModel (batch_phi_d, batch_phi_n)\n",
    "        loss = cosine_contrastive_loss(z_d, z_n, batch_y, alpha=0.5)\n",
    "\n",
    "        optimizer.zero_grad()\n",
    "        loss.backward()\n",
    "        optimizer.step()\n",
    "\n",
    "        epoch_loss += loss.item()\n",
    "\n",
    "    avg_loss = epoch_loss / len(dataloader)\n",
    "    loss_list.append(avg_loss)"
   ]
  },
  {
   "cell_type": "code",
   "execution_count": 19,
   "id": "2791f441-cace-4d3a-8265-fd819a1ff960",
   "metadata": {},
   "outputs": [],
   "source": [
    "import matplotlib.pyplot as plt"
   ]
  },
  {
   "cell_type": "code",
   "execution_count": 20,
   "id": "66528bce-74be-4d67-b799-e5239ef4b4bf",
   "metadata": {},
   "outputs": [
    {
     "data": {
      "image/png": "[encoded data removed]",
      "text/plain": [
       "<Figure size 1000x500 with 1 Axes>"
      ]
     },
     "metadata": {},
     "output_type": "display_data"
    }
   ],
   "source": [
    "plt.figure(figsize=(10, 5))\n",
    "plt.plot(loss_list, label=\"Training Loss\", color=\"blue\")\n",
    "plt.xlabel(\"Epoch\")\n",
    "plt.ylabel(\"Loss\")\n",
    "plt.title(\"Contrastive Loss over Epochs\")\n",
    "plt.grid(True)\n",
    "plt.legend()\n",
    "plt.show()"
   ]
  },
  {
   "cell_type": "code",
   "execution_count": 21,
   "id": "c156280e-0ec8-4398-8390-adb6722595ee",
   "metadata": {},
   "outputs": [],
   "source": [
    "from sklearn.manifold import TSNE\n",
    "import numpy as np"
   ]
  },
  {
   "cell_type": "code",
   "execution_count": 22,
   "id": "89cf7c98-b283-4f29-86fd-e7cbf3cc81e1",
   "metadata": {},
   "outputs": [
    {
     "data": {
      "text/plain": [
       "DietFoodContrastiveModel(\n",
       "  (proj_d): Sequential(\n",
       "    (0): Linear(in_features=768, out_features=128, bias=True)\n",
       "    (1): ReLU()\n",
       "    (2): Linear(in_features=128, out_features=128, bias=True)\n",
       "  )\n",
       "  (proj_n): Sequential(\n",
       "    (0): Linear(in_features=768, out_features=128, bias=True)\n",
       "    (1): ReLU()\n",
       "    (2): Linear(in_features=128, out_features=128, bias=True)\n",
       "  )\n",
       ")"
      ]
     },
     "execution_count": 22,
     "metadata": {},
     "output_type": "execute_result"
    }
   ],
   "source": [
    "model_DietFoodContrastiveModel .eval()\n"
   ]
  },
  {
   "cell_type": "code",
   "execution_count": 83,
   "id": "ba8a78e3-eab4-402f-bab8-e1139f30adf2",
   "metadata": {},
   "outputs": [],
   "source": [
    "with torch.no_grad():\n",
    "    z_d, z_n = model_DietFoodContrastiveModel (phi_d, phi_n)"
   ]
  },
  {
   "cell_type": "code",
   "execution_count": 103,
   "id": "da2ef004-797d-4039-b5cd-dc84ca4483e1",
   "metadata": {},
   "outputs": [],
   "source": [
    "torch.save(model_DietFoodContrastiveModel.state_dict(), \"diet_food_contrastive_model.pth\")"
   ]
  },
  {
   "cell_type": "markdown",
   "id": "ffa3a638-f229-4817-8979-c4cfc66d5a17",
   "metadata": {},
   "source": [
    "# Checking"
   ]
  },
  {
   "cell_type": "code",
   "execution_count": 67,
   "id": "4e01d2fc-5178-4933-9524-15021487fb40",
   "metadata": {},
   "outputs": [],
   "source": [
    "import torch.nn.functional as F\n",
    "\n",
    "def check_model_prediction(diet_name, food_list, triples, z_d, z_n, y):\n",
    "    triple_index_map = {\n",
    "        (d.lower(), f.lower()): i for i, (d, f, _) in enumerate(triples)\n",
    "    }\n",
    "\n",
    "    similarities = {}\n",
    "    labels = {}\n",
    "\n",
    "    for food in food_list:\n",
    "        key = (diet_name.lower(), food.lower())\n",
    "        if key not in triple_index_map:\n",
    "            print(f\"Skip: ({diet_name}, {food}) not in triples.\")\n",
    "            continue\n",
    "\n",
    "        idx = triple_index_map[key]\n",
    "        zd = z_d[idx].unsqueeze(0)  # [1, proj_dim]\n",
    "        zn = z_n[idx].unsqueeze(0)\n",
    "        sim = F.cosine_similarity(zd, zn).item()\n",
    "\n",
    "        similarities[food] = sim\n",
    "        labels[food] = y[idx].item()\n",
    "\n",
    "    return similarities, labels\n"
   ]
  },
  {
   "cell_type": "code",
   "execution_count": 102,
   "id": "0383d558-5966-431d-872e-188cc9b0c26e",
   "metadata": {},
   "outputs": [
    {
     "name": "stdout",
     "output_type": "stream",
     "text": [
      "Skip: (Keto Diet, Rice) not in triples.\n",
      "\n",
      "Model prediction for Keto Diet:\n",
      "Meat             |  Cosine sim: 0.9912  |  Label: 1\n",
      "Cheese           |  Cosine sim: 0.9781  |  Label: 1\n",
      "Fatty fish       |  Cosine sim: 0.9674  |  Label: 1\n",
      "Eggs             |  Cosine sim: 0.9628  |  Label: 1\n",
      "Low-carb vegetables  |  Cosine sim: 0.9581  |  Label: 1\n",
      "Butter           |  Cosine sim: 0.9438  |  Label: 1\n",
      "High-carb fruits  |  Cosine sim: 0.7550  |  Label: -1\n",
      "Legumes          |  Cosine sim: 0.6719  |  Label: -1\n",
      "Sugar            |  Cosine sim: 0.5002  |  Label: -1\n",
      "Grains           |  Cosine sim: 0.4861  |  Label: -1\n"
     ]
    }
   ],
   "source": [
    "diet = \"Keto Diet\"\n",
    "foods = [\n",
    "    \"Meat\", \"Fatty fish\", \"Eggs\", \"Cheese\", \"Butter\", \"Low-carb vegetables\",  # recommend\n",
    "    \"Grains\", \"Sugar\", \"High-carb fruits\", \"Legumes\", \"Rice\",                 # avoid\n",
    "]\n",
    "\n",
    "# diet = \"Vegan Diet\"\n",
    "# foods = [\n",
    "#     \"Fruits\", \"Vegetables\", \"Grains\", \"Legumes\", \"Nuts\", \"Seeds\",           # recommend\n",
    "#     \"Cheese\", \"Eggs\", \"Meat\", \"Fish\", \"Butter\", \"Milk\",                      # avoid\n",
    "# ]\n",
    "\n",
    "\n",
    "# diet = \"Carnivore Diet\"\n",
    "# foods = [\n",
    "#     \"Meat\", \"Fish\", \"Eggs\", \"Animal fats\",                                   # recommend\n",
    "#     \"Fruits\", \"Vegetables\", \"Legumes\", \"Oats\", \"Whole grains\",               # avoid\n",
    "# ]\n",
    "\n",
    "# diet = \"Mediterranean Diet\"\n",
    "# foods = [\n",
    "#     \"Olive oil\", \"Fish\", \"Fruits\", \"Vegetables\", \"Legumes\", \"Whole grains\",  # recommend\n",
    "#     \"Red meat\", \"Refined grains\", \"Processed foods\", \"Butter\", \"Soda\"        # avoid\n",
    "# ]\n",
    "\n",
    "similarities, labels = check_model_prediction(diet, foods, triples, z_d, z_n, y)\n",
    "# similarities, labels = check_model_prediction(diet, foods, triples, phi_d, phi_n, y)\n",
    "\n",
    "print(f\"\\nModel prediction for {diet}:\")\n",
    "for food in sorted(similarities, key=lambda x: -similarities[x]):\n",
    "    print(f\"{food:15s}  |  Cosine sim: {similarities[food]:.4f}  |  Label: {labels[food]}\")\n"
   ]
  },
  {
   "cell_type": "code",
   "execution_count": null,
   "id": "5098da5e-6903-48e2-88d2-abc1176088b7",
   "metadata": {},
   "outputs": [],
   "source": []
  }
 ],
 "metadata": {
  "kernelspec": {
   "display_name": "Python 3 (ipykernel)",
   "language": "python",
   "name": "python3"
  },
  "language_info": {
   "codemirror_mode": {
    "name": "ipython",
    "version": 3
   },
   "file_extension": ".py",
   "mimetype": "text/x-python",
   "name": "python",
   "nbconvert_exporter": "python",
   "pygments_lexer": "ipython3",
   "version": "3.10.13"
  }
 },
 "nbformat": 4,
 "nbformat_minor": 5
}
